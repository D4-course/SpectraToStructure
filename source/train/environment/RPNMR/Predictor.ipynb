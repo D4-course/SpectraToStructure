{
 "cells": [
  {
   "cell_type": "code",
   "execution_count": 1,
   "metadata": {},
   "outputs": [],
   "source": [
    "from predictor_new import NMRPredictor"
   ]
  },
  {
   "cell_type": "code",
   "execution_count": 9,
   "metadata": {},
   "outputs": [],
   "source": [
    "predObject = NMRPredictor(\"checkpoints/best_model.meta\", \"checkpoints/best_model_new.00000000.model\", USE_CUDA = True)"
   ]
  },
  {
   "cell_type": "code",
   "execution_count": 10,
   "metadata": {},
   "outputs": [
    {
     "data": {
      "text/plain": [
       "[16.06142234802246,\n",
       " 121.70999145507812,\n",
       " 134.16610717773438,\n",
       " 156.76893615722656,\n",
       " 15.64548110961914,\n",
       " 77.79364776611328]"
      ]
     },
     "execution_count": 10,
     "metadata": {},
     "output_type": "execute_result"
    }
   ],
   "source": [
    "predObject.predict(\"C/C=C/C(C)=C\")"
   ]
  },
  {
   "cell_type": "code",
   "execution_count": 11,
   "metadata": {},
   "outputs": [],
   "source": [
    "import numpy as np"
   ]
  },
  {
   "cell_type": "code",
   "execution_count": 12,
   "metadata": {},
   "outputs": [
    {
     "name": "stdout",
     "output_type": "stream",
     "text": [
      "0.9534906921964703\n",
      "0.9069813843929406\n"
     ]
    }
   ],
   "source": [
    "from scipy.stats import wasserstein_distance\n",
    "target_nmr = np.array([18.3, 18.8, 114.5, 125.1, 135.5, 142.2])\n",
    "calc_nmr = np.array(predObject.predict(\"C/C=C/C(C)=C\"))\n",
    "target_nmr/= 220\n",
    "calc_nmr /= 220\n",
    "reward = 1 - wasserstein_distance(calc_nmr,target_nmr)\n",
    "print(reward)\n",
    "print(2*(reward-0.5))"
   ]
  },
  {
   "cell_type": "code",
   "execution_count": 1,
   "metadata": {},
   "outputs": [],
   "source": [
    "from predictor import NMRPredictor\n",
    "import pickle"
   ]
  },
  {
   "cell_type": "code",
   "execution_count": 2,
   "metadata": {},
   "outputs": [],
   "source": [
    "from graph_conv_many_nuc_pred import Model"
   ]
  },
  {
   "cell_type": "code",
   "execution_count": 63,
   "metadata": {},
   "outputs": [],
   "source": [
    "Pred = Model(\"checkpoints/best_model_new.meta\", \"checkpoints/best_model_new.00000000.model\", USE_CUDA = True)"
   ]
  },
  {
   "cell_type": "code",
   "execution_count": 28,
   "metadata": {},
   "outputs": [],
   "source": [
    "with open(\"graph_conv_many_nuc_pipeline.datasets/graph_conv_many_nuc_pipeline.data.13C.nmrshiftdb_hconfspcl_nmrshiftdb.aromatic.64.0.mol_dict.pickle\", \"rb\") as inFile:\n",
    "    dat = pickle.load(inFile)"
   ]
  },
  {
   "cell_type": "code",
   "execution_count": 29,
   "metadata": {},
   "outputs": [],
   "source": [
    "from rdkit.Chem import AllChem\n",
    "from rdkit import Chem"
   ]
  },
  {
   "cell_type": "code",
   "execution_count": 30,
   "metadata": {},
   "outputs": [],
   "source": [
    "df =  dat[\"test_df\"]"
   ]
  },
  {
   "cell_type": "code",
   "execution_count": 66,
   "metadata": {
    "scrolled": true
   },
   "outputs": [
    {
     "data": {
      "image/png": "[encoded data removed]",
      "text/plain": [
       "<rdkit.Chem.rdchem.Mol at 0x150d3a20ccb0>"
      ]
     },
     "execution_count": 66,
     "metadata": {},
     "output_type": "execute_result"
    }
   ],
   "source": [
    "mol"
   ]
  },
  {
   "cell_type": "code",
   "execution_count": 64,
   "metadata": {},
   "outputs": [
    {
     "data": {
      "text/plain": [
       "12"
      ]
     },
     "execution_count": 64,
     "metadata": {},
     "output_type": "execute_result"
    }
   ],
   "source": [
    "mol = Chem.MolFromSmiles(\"C1=CC=CC=C1\")\n",
    "mol = Chem.AddHs(mol)\n",
    "AllChem.EmbedMolecule(mol)\n",
    "val = [{0: 0,2:0}]\n",
    "mol.GetNumAtoms()"
   ]
  },
  {
   "cell_type": "code",
   "execution_count": 65,
   "metadata": {
    "scrolled": true
   },
   "outputs": [
    {
     "name": "stderr",
     "output_type": "stream",
     "text": [
      "100%|██████████| 1/1 [00:00<00:00, 37.30it/s]\n"
     ]
    },
    {
     "data": {
      "text/html": [
       "<div>\n",
       "<style scoped>\n",
       "    .dataframe tbody tr th:only-of-type {\n",
       "        vertical-align: middle;\n",
       "    }\n",
       "\n",
       "    .dataframe tbody tr th {\n",
       "        vertical-align: top;\n",
       "    }\n",
       "\n",
       "    .dataframe thead th {\n",
       "        text-align: right;\n",
       "    }\n",
       "</style>\n",
       "<table border=\"1\" class=\"dataframe\">\n",
       "  <thead>\n",
       "    <tr style=\"text-align: right;\">\n",
       "      <th></th>\n",
       "      <th>i_batch</th>\n",
       "      <th>atom_idx</th>\n",
       "      <th>m_pos</th>\n",
       "      <th>nuc_i</th>\n",
       "      <th>nuc</th>\n",
       "      <th>std_out</th>\n",
       "      <th>value</th>\n",
       "      <th>est</th>\n",
       "      <th>std</th>\n",
       "    </tr>\n",
       "  </thead>\n",
       "  <tbody>\n",
       "    <tr>\n",
       "      <th>0</th>\n",
       "      <td>0</td>\n",
       "      <td>0</td>\n",
       "      <td>0</td>\n",
       "      <td>0</td>\n",
       "      <td>13C</td>\n",
       "      <td>True</td>\n",
       "      <td>0.0</td>\n",
       "      <td>119.436104</td>\n",
       "      <td>0.802857</td>\n",
       "    </tr>\n",
       "    <tr>\n",
       "      <th>1</th>\n",
       "      <td>0</td>\n",
       "      <td>2</td>\n",
       "      <td>0</td>\n",
       "      <td>0</td>\n",
       "      <td>13C</td>\n",
       "      <td>True</td>\n",
       "      <td>0.0</td>\n",
       "      <td>119.436104</td>\n",
       "      <td>0.802857</td>\n",
       "    </tr>\n",
       "  </tbody>\n",
       "</table>\n",
       "</div>"
      ],
      "text/plain": [
       "   i_batch  atom_idx  m_pos  nuc_i  nuc  std_out  value         est       std\n",
       "0        0         0      0      0  13C     True    0.0  119.436104  0.802857\n",
       "1        0         2      0      0  13C     True    0.0  119.436104  0.802857"
      ]
     },
     "execution_count": 65,
     "metadata": {},
     "output_type": "execute_result"
    }
   ],
   "source": [
    "Pred.pred([mol],[val])"
   ]
  },
  {
   "cell_type": "code",
   "execution_count": 34,
   "metadata": {},
   "outputs": [
    {
     "data": {
      "text/html": [
       "<div>\n",
       "<style scoped>\n",
       "    .dataframe tbody tr th:only-of-type {\n",
       "        vertical-align: middle;\n",
       "    }\n",
       "\n",
       "    .dataframe tbody tr th {\n",
       "        vertical-align: top;\n",
       "    }\n",
       "\n",
       "    .dataframe thead th {\n",
       "        text-align: right;\n",
       "    }\n",
       "</style>\n",
       "<table border=\"1\" class=\"dataframe\">\n",
       "  <thead>\n",
       "    <tr style=\"text-align: right;\">\n",
       "      <th></th>\n",
       "      <th>molecule_id</th>\n",
       "      <th>rdmol</th>\n",
       "      <th>spectra_ids</th>\n",
       "      <th>value</th>\n",
       "    </tr>\n",
       "  </thead>\n",
       "  <tbody>\n",
       "    <tr>\n",
       "      <th>1</th>\n",
       "      <td>4002</td>\n",
       "      <td>&lt;rdkit.Chem.rdchem.Mol object at 0x150d3a207bf0&gt;</td>\n",
       "      <td>[2]</td>\n",
       "      <td>[{9: 50.9, 3: 35.8, 7: 146.7, 14: 22.9, 11: 39...</td>\n",
       "    </tr>\n",
       "    <tr>\n",
       "      <th>5</th>\n",
       "      <td>4008</td>\n",
       "      <td>&lt;rdkit.Chem.rdchem.Mol object at 0x150d3a207c30&gt;</td>\n",
       "      <td>[8]</td>\n",
       "      <td>[{2: 23.9, 3: 52.0, 1: 21.2, 8: 51.1, 0: 12.9,...</td>\n",
       "    </tr>\n",
       "    <tr>\n",
       "      <th>9</th>\n",
       "      <td>4012</td>\n",
       "      <td>&lt;rdkit.Chem.rdchem.Mol object at 0x150d3a207c70&gt;</td>\n",
       "      <td>[12]</td>\n",
       "      <td>[{12: 104.9, 9: 136.2, 27: 128.1, 19: 127.0, 2...</td>\n",
       "    </tr>\n",
       "    <tr>\n",
       "      <th>14</th>\n",
       "      <td>4019</td>\n",
       "      <td>&lt;rdkit.Chem.rdchem.Mol object at 0x150d3a207cb0&gt;</td>\n",
       "      <td>[20]</td>\n",
       "      <td>[{11: 170.74, 17: 22.09, 4: 54.44, 13: 42.21, ...</td>\n",
       "    </tr>\n",
       "    <tr>\n",
       "      <th>24</th>\n",
       "      <td>4030</td>\n",
       "      <td>&lt;rdkit.Chem.rdchem.Mol object at 0x150d3a207cf0&gt;</td>\n",
       "      <td>[34]</td>\n",
       "      <td>[{6: 39.41, 7: 44.34, 3: 23.04, 2: 116.1, 11: ...</td>\n",
       "    </tr>\n",
       "    <tr>\n",
       "      <th>...</th>\n",
       "      <td>...</td>\n",
       "      <td>...</td>\n",
       "      <td>...</td>\n",
       "      <td>...</td>\n",
       "    </tr>\n",
       "    <tr>\n",
       "      <th>26851</th>\n",
       "      <td>44631</td>\n",
       "      <td>&lt;rdkit.Chem.rdchem.Mol object at 0x150d3a140eb0&gt;</td>\n",
       "      <td>[49439]</td>\n",
       "      <td>[{1: 122.7, 10: 131.5, 9: 129.0, 8: 140.1, 3: ...</td>\n",
       "    </tr>\n",
       "    <tr>\n",
       "      <th>26871</th>\n",
       "      <td>44652</td>\n",
       "      <td>&lt;rdkit.Chem.rdchem.Mol object at 0x150d3a140ef0&gt;</td>\n",
       "      <td>[49461]</td>\n",
       "      <td>[{10: 132.2, 9: 130.3, 0: 128.2, 1: 132.2, 14:...</td>\n",
       "    </tr>\n",
       "    <tr>\n",
       "      <th>26876</th>\n",
       "      <td>44657</td>\n",
       "      <td>&lt;rdkit.Chem.rdchem.Mol object at 0x150d3a140f30&gt;</td>\n",
       "      <td>[49466]</td>\n",
       "      <td>[{7: 128.4, 10: 132.1, 3: 74.6, 8: 129.4, 5: 1...</td>\n",
       "    </tr>\n",
       "    <tr>\n",
       "      <th>26890</th>\n",
       "      <td>44671</td>\n",
       "      <td>&lt;rdkit.Chem.rdchem.Mol object at 0x150d3a140f70&gt;</td>\n",
       "      <td>[49480]</td>\n",
       "      <td>[{3: 120.7, 14: 65.4, 6: 130.3, 1: 142.5, 11: ...</td>\n",
       "    </tr>\n",
       "    <tr>\n",
       "      <th>26892</th>\n",
       "      <td>44673</td>\n",
       "      <td>&lt;rdkit.Chem.rdchem.Mol object at 0x150d3a140fb0&gt;</td>\n",
       "      <td>[49482]</td>\n",
       "      <td>[{11: 144.6, 10: 112.6, 13: 56.6, 9: 125.2, 6:...</td>\n",
       "    </tr>\n",
       "  </tbody>\n",
       "</table>\n",
       "<p>5390 rows × 4 columns</p>\n",
       "</div>"
      ],
      "text/plain": [
       "       molecule_id                                             rdmol  \\\n",
       "1             4002  <rdkit.Chem.rdchem.Mol object at 0x150d3a207bf0>   \n",
       "5             4008  <rdkit.Chem.rdchem.Mol object at 0x150d3a207c30>   \n",
       "9             4012  <rdkit.Chem.rdchem.Mol object at 0x150d3a207c70>   \n",
       "14            4019  <rdkit.Chem.rdchem.Mol object at 0x150d3a207cb0>   \n",
       "24            4030  <rdkit.Chem.rdchem.Mol object at 0x150d3a207cf0>   \n",
       "...            ...                                               ...   \n",
       "26851        44631  <rdkit.Chem.rdchem.Mol object at 0x150d3a140eb0>   \n",
       "26871        44652  <rdkit.Chem.rdchem.Mol object at 0x150d3a140ef0>   \n",
       "26876        44657  <rdkit.Chem.rdchem.Mol object at 0x150d3a140f30>   \n",
       "26890        44671  <rdkit.Chem.rdchem.Mol object at 0x150d3a140f70>   \n",
       "26892        44673  <rdkit.Chem.rdchem.Mol object at 0x150d3a140fb0>   \n",
       "\n",
       "      spectra_ids                                              value  \n",
       "1             [2]  [{9: 50.9, 3: 35.8, 7: 146.7, 14: 22.9, 11: 39...  \n",
       "5             [8]  [{2: 23.9, 3: 52.0, 1: 21.2, 8: 51.1, 0: 12.9,...  \n",
       "9            [12]  [{12: 104.9, 9: 136.2, 27: 128.1, 19: 127.0, 2...  \n",
       "14           [20]  [{11: 170.74, 17: 22.09, 4: 54.44, 13: 42.21, ...  \n",
       "24           [34]  [{6: 39.41, 7: 44.34, 3: 23.04, 2: 116.1, 11: ...  \n",
       "...           ...                                                ...  \n",
       "26851     [49439]  [{1: 122.7, 10: 131.5, 9: 129.0, 8: 140.1, 3: ...  \n",
       "26871     [49461]  [{10: 132.2, 9: 130.3, 0: 128.2, 1: 132.2, 14:...  \n",
       "26876     [49466]  [{7: 128.4, 10: 132.1, 3: 74.6, 8: 129.4, 5: 1...  \n",
       "26890     [49480]  [{3: 120.7, 14: 65.4, 6: 130.3, 1: 142.5, 11: ...  \n",
       "26892     [49482]  [{11: 144.6, 10: 112.6, 13: 56.6, 9: 125.2, 6:...  \n",
       "\n",
       "[5390 rows x 4 columns]"
      ]
     },
     "execution_count": 34,
     "metadata": {},
     "output_type": "execute_result"
    }
   ],
   "source": [
    "dat[\"test_df\"]"
   ]
  },
  {
   "cell_type": "code",
   "execution_count": 35,
   "metadata": {},
   "outputs": [],
   "source": [
    "vals = dat[\"test_df\"].value.tolist()\n",
    "mols = dat[\"test_df\"].rdmol.tolist()"
   ]
  },
  {
   "cell_type": "code",
   "execution_count": 2,
   "metadata": {},
   "outputs": [],
   "source": [
    "from rdkit import Chem"
   ]
  },
  {
   "cell_type": "code",
   "execution_count": 12,
   "metadata": {},
   "outputs": [],
   "source": [
    "import numpy as np\n",
    "import torch\n",
    "import pandas as pd\n",
    "import atom_features\n",
    "import molecule_features\n",
    "from rdkit import Chem\n",
    "from rdkit.Chem import AllChem\n",
    "import nets\n",
    "import torch"
   ]
  },
  {
   "cell_type": "code",
   "execution_count": 39,
   "metadata": {},
   "outputs": [],
   "source": [
    "MAX_N = 64\n",
    "default_atomicno = [1, 6, 7, 8, 9, 15, 16, 17]\n",
    "default_feat_vect_args = dict(feat_atomicno_onehot=default_atomicno, \n",
    "                              feat_pos=False, feat_atomicno=True,\n",
    "                              feat_valence=True, aromatic=True, hybridization=True, \n",
    "                              partial_charge=False, formal_charge=True,  # WE SHOULD REALLY USE THIS \n",
    "                              r_covalent=False,\n",
    "                              total_valence_onehot=True, \n",
    "                              \n",
    "                              r_vanderwals=False, default_valence=True, rings=True)\n",
    "\n",
    "\n",
    "default_feat_mat_args = dict(feat_distances = False, \n",
    "                             feat_r_pow = None)\n",
    "\n",
    "default_split_weights = [1, 1.5, 2, 3]\n",
    "\n",
    "default_adj_args = dict(edge_weighted=False, \n",
    "                        norm_adj=True, add_identity=True, \n",
    "                        split_weights=default_split_weights)\n",
    "\n",
    "net_params =  {\n",
    "        \"init_noise\": 0.01,\n",
    "        \"resnet\": True,\n",
    "        \"int_d\": 2048,\n",
    "        \"layer_n\": 10,\n",
    "        \"GS\": 4,\n",
    "        \"agg_func\": \"goodmax\",\n",
    "        \"force_lin_init\": True,\n",
    "        \"g_feature_n\": 37,\n",
    "        \"resnet_out\": True,\n",
    "        \"out_std\": True,\n",
    "        \"graph_dropout\": 0.0,\n",
    "        \"resnet_d\": 128,\n",
    "        \"OUT_DIM\": 1\n",
    "    }"
   ]
  },
  {
   "cell_type": "code",
   "execution_count": 45,
   "metadata": {},
   "outputs": [],
   "source": [
    "def featuresFromMol(mol):\n",
    "    #AllChem.EmbedMolecule(mol)\n",
    "    conf_idx = np.random.randint(mol.GetNumConformers())        \n",
    "    f_vect = atom_features.feat_tensor_atom(mol, conf_idx=conf_idx, **default_feat_vect_args)\n",
    "\n",
    "    DATA_N = f_vect.shape[0]\n",
    "\n",
    "    vect_feat = np.zeros((MAX_N, f_vect.shape[1]), dtype=np.float32)\n",
    "    vect_feat[:DATA_N] = f_vect\n",
    "    \n",
    "\n",
    "    adj_nopad = molecule_features.feat_mol_adj(mol, **default_adj_args)\n",
    "    adj = torch.zeros((adj_nopad.shape[0], MAX_N, MAX_N))\n",
    "    adj[:, :adj_nopad.shape[1], :adj_nopad.shape[2]] = adj_nopad\n",
    "\n",
    "    return  (adj,torch.tensor([vect_feat]))"
   ]
  },
  {
   "cell_type": "code",
   "execution_count": 43,
   "metadata": {
    "scrolled": false
   },
   "outputs": [],
   "source": [
    "model = nets.GraphVertModel(**net_params)"
   ]
  },
  {
   "cell_type": "code",
   "execution_count": 44,
   "metadata": {},
   "outputs": [
    {
     "data": {
      "text/plain": [
       "<All keys matched successfully>"
      ]
     },
     "execution_count": 44,
     "metadata": {},
     "output_type": "execute_result"
    }
   ],
   "source": [
    "model.load_state_dict(torch.load(\"checkpoints/best_model.00000000.state\"))"
   ]
  },
  {
   "cell_type": "code",
   "execution_count": 49,
   "metadata": {},
   "outputs": [],
   "source": [
    "ha = [atom.GetAtomicNum()==6 for atom in mols[4].GetAtoms()]"
   ]
  },
  {
   "cell_type": "code",
   "execution_count": 50,
   "metadata": {},
   "outputs": [
    {
     "data": {
      "text/plain": [
       "[True,\n",
       " True,\n",
       " True,\n",
       " True,\n",
       " True,\n",
       " True,\n",
       " True,\n",
       " True,\n",
       " True,\n",
       " True,\n",
       " True,\n",
       " True,\n",
       " True,\n",
       " True,\n",
       " True,\n",
       " False,\n",
       " False,\n",
       " False,\n",
       " False,\n",
       " False,\n",
       " False,\n",
       " False,\n",
       " False,\n",
       " False,\n",
       " False,\n",
       " False,\n",
       " False,\n",
       " False,\n",
       " False,\n",
       " False,\n",
       " False,\n",
       " False,\n",
       " False,\n",
       " False,\n",
       " False,\n",
       " False,\n",
       " False,\n",
       " False,\n",
       " False]"
      ]
     },
     "execution_count": 50,
     "metadata": {},
     "output_type": "execute_result"
    }
   ],
   "source": [
    "ha"
   ]
  },
  {
   "cell_type": "code",
   "execution_count": 49,
   "metadata": {
    "scrolled": true
   },
   "outputs": [],
   "source": [
    "ha = ha + [False] * (64-mol.GetNumAtoms())"
   ]
  },
  {
   "cell_type": "code",
   "execution_count": 46,
   "metadata": {
    "scrolled": false
   },
   "outputs": [],
   "source": [
    "shifts = model(featuresFromMol(mols[4]))[\"mu\"].squeeze()"
   ]
  },
  {
   "cell_type": "code",
   "execution_count": 47,
   "metadata": {},
   "outputs": [
    {
     "data": {
      "text/plain": [
       "tensor([34.5063, 25.3172, 34.9550, 25.0581, 33.1610, 31.2350, 26.7636, 31.6524,\n",
       "        16.6137, 21.1425, 20.6008, 24.4193, 19.0497, 14.1671, 14.1671, 23.7372,\n",
       "        32.7956, 14.7037, 14.7037, 14.7037, 18.9740, 18.9740, 20.0306, 20.3588,\n",
       "         9.2720,  9.2720,  9.2720, 12.4203, 12.4203, 12.3694, 12.3694, 15.9751,\n",
       "        13.7275,  8.3655,  8.3655,  8.3655,  8.3655,  8.3655,  8.3655,  0.2201,\n",
       "         0.2201,  0.2201,  0.2201,  0.2201,  0.2201,  0.2201,  0.2201,  0.2201,\n",
       "         0.2201,  0.2201,  0.2201,  0.2201,  0.2201,  0.2201,  0.2201,  0.2201,\n",
       "         0.2201,  0.2201,  0.2201,  0.2201,  0.2201,  0.2201,  0.2201,  0.2201],\n",
       "       grad_fn=<SqueezeBackward0>)"
      ]
     },
     "execution_count": 47,
     "metadata": {},
     "output_type": "execute_result"
    }
   ],
   "source": [
    "shifts"
   ]
  },
  {
   "cell_type": "code",
   "execution_count": 51,
   "metadata": {},
   "outputs": [
    {
     "data": {
      "text/plain": [
       "tensor([73.0436, 76.2304, 66.0928, 58.2910, 44.8345], grad_fn=<IndexBackward>)"
      ]
     },
     "execution_count": 51,
     "metadata": {},
     "output_type": "execute_result"
    }
   ],
   "source": [
    "shifts[ha]"
   ]
  },
  {
   "cell_type": "code",
   "execution_count": 18,
   "metadata": {},
   "outputs": [],
   "source": [
    "class NMRPredictor:\n",
    "    def __init__(self, modelState = \"checkpoints/best_model_new.00000000.state\"):\n",
    "        self.MAX_N = 64\n",
    "        self.default_atomicno = [1, 6, 7, 8, 9, 15, 16, 17]\n",
    "        self.default_feat_vect_args = dict(feat_atomicno_onehot=self.default_atomicno, \n",
    "                              feat_pos=False, feat_atomicno=True,\n",
    "                              feat_valence=True, aromatic=True, hybridization=True, \n",
    "                              partial_charge=False, formal_charge=True,  # WE SHOULD REALLY USE THIS \n",
    "                              r_covalent=False,\n",
    "                              total_valence_onehot=True, \n",
    "                              \n",
    "                              r_vanderwals=False, default_valence=True, rings=True)\n",
    "\n",
    "\n",
    "        self.default_feat_mat_args = dict(feat_distances = False, \n",
    "                             feat_r_pow = None)\n",
    "\n",
    "        self.default_split_weights = [1, 1.5, 2, 3]\n",
    "\n",
    "        self.default_adj_args = dict(edge_weighted=False, \n",
    "                        norm_adj=True, add_identity=True, \n",
    "                        split_weights=self.default_split_weights)\n",
    "\n",
    "        self.net_params =  {\n",
    "                \"init_noise\": 0.01,\n",
    "                \"resnet\": True,\n",
    "                \"int_d\": 2048,\n",
    "                \"layer_n\": 10,\n",
    "                \"GS\": 4,\n",
    "                \"agg_func\": \"goodmax\",\n",
    "                \"force_lin_init\": True,\n",
    "                \"g_feature_n\": 37,\n",
    "                \"resnet_out\": True,\n",
    "                \"out_std\": True,\n",
    "                \"graph_dropout\": 0.0,\n",
    "                \"resnet_d\": 128,\n",
    "                \"OUT_DIM\": 1\n",
    "            }\n",
    "        \n",
    "        self.model = nets.GraphVertModel(**self.net_params)\n",
    "        self.model.load_state_dict(torch.load(modelState))\n",
    "        \n",
    "    def featuresFromMol(self,mol):\n",
    "        AllChem.EmbedMolecule(mol)\n",
    "        conf_idx = np.random.randint(mol.GetNumConformers())        \n",
    "        f_vect = atom_features.feat_tensor_atom(mol, conf_idx=conf_idx, **self.default_feat_vect_args)\n",
    "\n",
    "        DATA_N = f_vect.shape[0]\n",
    "\n",
    "        vect_feat = np.zeros((MAX_N, f_vect.shape[1]), dtype=np.float32)\n",
    "        vect_feat[:DATA_N] = f_vect\n",
    "\n",
    "\n",
    "        adj_nopad = molecule_features.feat_mol_adj(mol, **self.default_adj_args)\n",
    "        adj = torch.zeros((adj_nopad.shape[0], MAX_N, MAX_N))\n",
    "        adj[:, :adj_nopad.shape[1], :adj_nopad.shape[2]] = adj_nopad\n",
    "\n",
    "        return  (adj,torch.tensor([vect_feat]))\n",
    "        \n",
    "    def predict(self,mol):\n",
    "        shifts = self.model(self.featuresFromMol(mol))[\"mu\"].squeeze()\n",
    "        mask = [atom.GetAtomicNum()==6 for atom in mol.GetAtoms()]\n",
    "        mask = mask + [False] * (self.MAX_N - mol.GetNumAtoms())\n",
    "        return np.array(shifts[mask].detach())"
   ]
  },
  {
   "cell_type": "code",
   "execution_count": 19,
   "metadata": {},
   "outputs": [],
   "source": [
    "pred = NMRPredictor()"
   ]
  },
  {
   "cell_type": "code",
   "execution_count": 20,
   "metadata": {},
   "outputs": [
    {
     "ename": "NameError",
     "evalue": "name 'MAX_N' is not defined",
     "output_type": "error",
     "traceback": [
      "\u001b[0;31m---------------------------------------------------------------------------\u001b[0m",
      "\u001b[0;31mNameError\u001b[0m                                 Traceback (most recent call last)",
      "\u001b[0;32m<ipython-input-20-e96a7ed09062>\u001b[0m in \u001b[0;36m<module>\u001b[0;34m\u001b[0m\n\u001b[0;32m----> 1\u001b[0;31m \u001b[0mpred\u001b[0m\u001b[0;34m.\u001b[0m\u001b[0mpredict\u001b[0m\u001b[0;34m(\u001b[0m\u001b[0mChem\u001b[0m\u001b[0;34m.\u001b[0m\u001b[0mMolFromSmiles\u001b[0m\u001b[0;34m(\u001b[0m\u001b[0;34m\"CCCO\"\u001b[0m\u001b[0;34m)\u001b[0m\u001b[0;34m)\u001b[0m\u001b[0;34m\u001b[0m\u001b[0;34m\u001b[0m\u001b[0m\n\u001b[0m",
      "\u001b[0;32m<ipython-input-18-d82957660935>\u001b[0m in \u001b[0;36mpredict\u001b[0;34m(self, mol)\u001b[0m\n\u001b[1;32m     59\u001b[0m \u001b[0;34m\u001b[0m\u001b[0m\n\u001b[1;32m     60\u001b[0m     \u001b[0;32mdef\u001b[0m \u001b[0mpredict\u001b[0m\u001b[0;34m(\u001b[0m\u001b[0mself\u001b[0m\u001b[0;34m,\u001b[0m\u001b[0mmol\u001b[0m\u001b[0;34m)\u001b[0m\u001b[0;34m:\u001b[0m\u001b[0;34m\u001b[0m\u001b[0;34m\u001b[0m\u001b[0m\n\u001b[0;32m---> 61\u001b[0;31m         \u001b[0mshifts\u001b[0m \u001b[0;34m=\u001b[0m \u001b[0mself\u001b[0m\u001b[0;34m.\u001b[0m\u001b[0mmodel\u001b[0m\u001b[0;34m(\u001b[0m\u001b[0mself\u001b[0m\u001b[0;34m.\u001b[0m\u001b[0mfeaturesFromMol\u001b[0m\u001b[0;34m(\u001b[0m\u001b[0mmol\u001b[0m\u001b[0;34m)\u001b[0m\u001b[0;34m)\u001b[0m\u001b[0;34m[\u001b[0m\u001b[0;34m\"mu\"\u001b[0m\u001b[0;34m]\u001b[0m\u001b[0;34m.\u001b[0m\u001b[0msqueeze\u001b[0m\u001b[0;34m(\u001b[0m\u001b[0;34m)\u001b[0m\u001b[0;34m\u001b[0m\u001b[0;34m\u001b[0m\u001b[0m\n\u001b[0m\u001b[1;32m     62\u001b[0m         \u001b[0mmask\u001b[0m \u001b[0;34m=\u001b[0m \u001b[0;34m[\u001b[0m\u001b[0matom\u001b[0m\u001b[0;34m.\u001b[0m\u001b[0mGetAtomicNum\u001b[0m\u001b[0;34m(\u001b[0m\u001b[0;34m)\u001b[0m\u001b[0;34m==\u001b[0m\u001b[0;36m6\u001b[0m \u001b[0;32mfor\u001b[0m \u001b[0matom\u001b[0m \u001b[0;32min\u001b[0m \u001b[0mmol\u001b[0m\u001b[0;34m.\u001b[0m\u001b[0mGetAtoms\u001b[0m\u001b[0;34m(\u001b[0m\u001b[0;34m)\u001b[0m\u001b[0;34m]\u001b[0m\u001b[0;34m\u001b[0m\u001b[0;34m\u001b[0m\u001b[0m\n\u001b[1;32m     63\u001b[0m         \u001b[0mmask\u001b[0m \u001b[0;34m=\u001b[0m \u001b[0mmask\u001b[0m \u001b[0;34m+\u001b[0m \u001b[0;34m[\u001b[0m\u001b[0;32mFalse\u001b[0m\u001b[0;34m]\u001b[0m \u001b[0;34m*\u001b[0m \u001b[0;34m(\u001b[0m\u001b[0mself\u001b[0m\u001b[0;34m.\u001b[0m\u001b[0mMAX_N\u001b[0m \u001b[0;34m-\u001b[0m \u001b[0mmol\u001b[0m\u001b[0;34m.\u001b[0m\u001b[0mGetNumAtoms\u001b[0m\u001b[0;34m(\u001b[0m\u001b[0;34m)\u001b[0m\u001b[0;34m)\u001b[0m\u001b[0;34m\u001b[0m\u001b[0;34m\u001b[0m\u001b[0m\n",
      "\u001b[0;32m<ipython-input-18-d82957660935>\u001b[0m in \u001b[0;36mfeaturesFromMol\u001b[0;34m(self, mol)\u001b[0m\n\u001b[1;32m     48\u001b[0m         \u001b[0mDATA_N\u001b[0m \u001b[0;34m=\u001b[0m \u001b[0mf_vect\u001b[0m\u001b[0;34m.\u001b[0m\u001b[0mshape\u001b[0m\u001b[0;34m[\u001b[0m\u001b[0;36m0\u001b[0m\u001b[0;34m]\u001b[0m\u001b[0;34m\u001b[0m\u001b[0;34m\u001b[0m\u001b[0m\n\u001b[1;32m     49\u001b[0m \u001b[0;34m\u001b[0m\u001b[0m\n\u001b[0;32m---> 50\u001b[0;31m         \u001b[0mvect_feat\u001b[0m \u001b[0;34m=\u001b[0m \u001b[0mnp\u001b[0m\u001b[0;34m.\u001b[0m\u001b[0mzeros\u001b[0m\u001b[0;34m(\u001b[0m\u001b[0;34m(\u001b[0m\u001b[0mMAX_N\u001b[0m\u001b[0;34m,\u001b[0m \u001b[0mf_vect\u001b[0m\u001b[0;34m.\u001b[0m\u001b[0mshape\u001b[0m\u001b[0;34m[\u001b[0m\u001b[0;36m1\u001b[0m\u001b[0;34m]\u001b[0m\u001b[0;34m)\u001b[0m\u001b[0;34m,\u001b[0m \u001b[0mdtype\u001b[0m\u001b[0;34m=\u001b[0m\u001b[0mnp\u001b[0m\u001b[0;34m.\u001b[0m\u001b[0mfloat32\u001b[0m\u001b[0;34m)\u001b[0m\u001b[0;34m\u001b[0m\u001b[0;34m\u001b[0m\u001b[0m\n\u001b[0m\u001b[1;32m     51\u001b[0m         \u001b[0mvect_feat\u001b[0m\u001b[0;34m[\u001b[0m\u001b[0;34m:\u001b[0m\u001b[0mDATA_N\u001b[0m\u001b[0;34m]\u001b[0m \u001b[0;34m=\u001b[0m \u001b[0mf_vect\u001b[0m\u001b[0;34m\u001b[0m\u001b[0;34m\u001b[0m\u001b[0m\n\u001b[1;32m     52\u001b[0m \u001b[0;34m\u001b[0m\u001b[0m\n",
      "\u001b[0;31mNameError\u001b[0m: name 'MAX_N' is not defined"
     ]
    }
   ],
   "source": [
    "pred.predict(Chem.MolFromSmiles(\"CCCO\"))"
   ]
  },
  {
   "cell_type": "code",
   "execution_count": 21,
   "metadata": {},
   "outputs": [],
   "source": [
    "from predictor import NMRPredictor"
   ]
  },
  {
   "cell_type": "code",
   "execution_count": 25,
   "metadata": {},
   "outputs": [],
   "source": [
    "pred = NMRPredictor(\"checkpoints/best_model.00000000.state\")"
   ]
  },
  {
   "cell_type": "code",
   "execution_count": 26,
   "metadata": {},
   "outputs": [
    {
     "data": {
      "text/plain": [
       "array([65.15548, 65.15548, 65.15548, 65.15548, 65.15548, 65.15548],\n",
       "      dtype=float32)"
      ]
     },
     "execution_count": 26,
     "metadata": {},
     "output_type": "execute_result"
    }
   ],
   "source": [
    "pred.predict(Chem.MolFromSmiles(\"C1=CC=CC=C1\"))"
   ]
  }
 ],
 "metadata": {
  "kernelspec": {
   "display_name": "Python 3",
   "language": "python",
   "name": "python3"
  },
  "language_info": {
   "codemirror_mode": {
    "name": "ipython",
    "version": 3
   },
   "file_extension": ".py",
   "mimetype": "text/x-python",
   "name": "python",
   "nbconvert_exporter": "python",
   "pygments_lexer": "ipython3",
   "version": "3.8.3"
  }
 },
 "nbformat": 4,
 "nbformat_minor": 4
}
